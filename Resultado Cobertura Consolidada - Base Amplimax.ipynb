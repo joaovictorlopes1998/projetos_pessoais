{
 "cells": [
  {
   "cell_type": "code",
   "execution_count": 2,
   "id": "60d447aa",
   "metadata": {},
   "outputs": [],
   "source": [
    "import os\n",
    "import glob\n",
    "import pandas as pd\n",
    "import chardet\n",
    "import haversine as hs\n",
    "import matplotlib.pyplot as plt\n",
    "import numpy as np\n",
    "import seaborn as sns"
   ]
  },
  {
   "cell_type": "code",
   "execution_count": 3,
   "id": "7cd45e7b",
   "metadata": {},
   "outputs": [],
   "source": [
    "#Selecionando o diretório de dados (onde está cada arquivo .csv)\n",
    "os.chdir(\"C:\\\\Users\\\\joaov\\\\Desktop\\\\Torres Consolidado\\\\Resultado Cobertura Amplimax\")\n",
    "extension = 'xlsx'\n",
    "all_filenames = [i for i in glob.glob('*.{}'.format(extension))]"
   ]
  },
  {
   "cell_type": "code",
   "execution_count": 4,
   "id": "75fa8b1c",
   "metadata": {},
   "outputs": [
    {
     "data": {
      "text/plain": [
       "['Cobertura Amplimax AC.xlsx',\n",
       " 'Cobertura Amplimax AL.xlsx',\n",
       " 'Cobertura Amplimax AM.xlsx',\n",
       " 'Cobertura Amplimax AP.xlsx',\n",
       " 'Cobertura Amplimax BA.xlsx',\n",
       " 'Cobertura Amplimax CE.xlsx',\n",
       " 'Cobertura Amplimax DF.xlsx',\n",
       " 'Cobertura Amplimax ES.xlsx',\n",
       " 'Cobertura Amplimax GO.xlsx',\n",
       " 'Cobertura Amplimax MA.xlsx',\n",
       " 'Cobertura Amplimax MG.xlsx',\n",
       " 'Cobertura Amplimax MS.xlsx',\n",
       " 'Cobertura Amplimax MT.xlsx',\n",
       " 'Cobertura Amplimax PA.xlsx',\n",
       " 'Cobertura Amplimax PB.xlsx',\n",
       " 'Cobertura Amplimax PE.xlsx',\n",
       " 'Cobertura Amplimax PI.xlsx',\n",
       " 'Cobertura Amplimax PR.xlsx',\n",
       " 'Cobertura Amplimax RJ.xlsx',\n",
       " 'Cobertura Amplimax RN.xlsx',\n",
       " 'Cobertura Amplimax RO.xlsx',\n",
       " 'Cobertura Amplimax RR.xlsx',\n",
       " 'Cobertura Amplimax RS.xlsx',\n",
       " 'Cobertura Amplimax SC.xlsx',\n",
       " 'Cobertura Amplimax SE.xlsx',\n",
       " 'Cobertura Amplimax SP.xlsx',\n",
       " 'Cobertura Amplimax TO.xlsx']"
      ]
     },
     "execution_count": 4,
     "metadata": {},
     "output_type": "execute_result"
    }
   ],
   "source": [
    "all_filenames"
   ]
  },
  {
   "cell_type": "code",
   "execution_count": 5,
   "id": "9c0b0a1f",
   "metadata": {},
   "outputs": [],
   "source": [
    "combined_excel = pd.concat([pd.read_excel(f) for f in all_filenames ])"
   ]
  },
  {
   "cell_type": "code",
   "execution_count": 6,
   "id": "81fe68cc",
   "metadata": {},
   "outputs": [],
   "source": [
    "combined_excel.to_excel(\"Cobertura Consolidada Base Amplimax.xlsx\")"
   ]
  },
  {
   "cell_type": "code",
   "execution_count": null,
   "id": "196f4373",
   "metadata": {},
   "outputs": [],
   "source": []
  }
 ],
 "metadata": {
  "kernelspec": {
   "display_name": "Python 3 (ipykernel)",
   "language": "python",
   "name": "python3"
  },
  "language_info": {
   "codemirror_mode": {
    "name": "ipython",
    "version": 3
   },
   "file_extension": ".py",
   "mimetype": "text/x-python",
   "name": "python",
   "nbconvert_exporter": "python",
   "pygments_lexer": "ipython3",
   "version": "3.10.9"
  }
 },
 "nbformat": 4,
 "nbformat_minor": 5
}
