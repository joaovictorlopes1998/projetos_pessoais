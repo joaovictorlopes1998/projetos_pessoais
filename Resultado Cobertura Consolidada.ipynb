{
 "cells": [
  {
   "cell_type": "code",
   "execution_count": 10,
   "id": "60d447aa",
   "metadata": {},
   "outputs": [],
   "source": [
    "import os\n",
    "import glob\n",
    "import pandas as pd\n",
    "import chardet\n",
    "import haversine as hs\n",
    "import matplotlib.pyplot as plt\n",
    "import numpy as np\n",
    "import seaborn as sns"
   ]
  },
  {
   "cell_type": "code",
   "execution_count": 11,
   "id": "7cd45e7b",
   "metadata": {},
   "outputs": [],
   "source": [
    "#Selecionando o diretório de dados (onde está cada arquivo .csv)\n",
    "os.chdir(\"C:\\\\Users\\\\joaov\\\\Desktop\\\\Torres Consolidado\\\\Resultado Cobertura\")\n",
    "extension = 'xlsx'\n",
    "all_filenames = [i for i in glob.glob('*.{}'.format(extension))]"
   ]
  },
  {
   "cell_type": "code",
   "execution_count": 12,
   "id": "75fa8b1c",
   "metadata": {},
   "outputs": [
    {
     "data": {
      "text/plain": [
       "['Cobertura Escolas AC.xlsx',\n",
       " 'Cobertura Escolas AL.xlsx',\n",
       " 'Cobertura Escolas AM.xlsx',\n",
       " 'Cobertura Escolas AP.xlsx',\n",
       " 'Cobertura Escolas BA.xlsx',\n",
       " 'Cobertura Escolas CE.xlsx',\n",
       " 'Cobertura Escolas DF.xlsx',\n",
       " 'Cobertura Escolas ES.xlsx',\n",
       " 'Cobertura Escolas GO.xlsx',\n",
       " 'Cobertura Escolas MA.xlsx',\n",
       " 'Cobertura Escolas MG.xlsx',\n",
       " 'Cobertura Escolas MS.xlsx',\n",
       " 'Cobertura Escolas MT.xlsx',\n",
       " 'Cobertura Escolas PA.xlsx',\n",
       " 'Cobertura Escolas PB.xlsx',\n",
       " 'Cobertura Escolas PE.xlsx',\n",
       " 'Cobertura Escolas PI.xlsx',\n",
       " 'Cobertura Escolas PR.xlsx',\n",
       " 'Cobertura Escolas RJ.xlsx',\n",
       " 'Cobertura Escolas RN.xlsx',\n",
       " 'Cobertura Escolas RO.xlsx',\n",
       " 'Cobertura Escolas RR.xlsx',\n",
       " 'Cobertura Escolas RS.xlsx',\n",
       " 'Cobertura Escolas SC.xlsx',\n",
       " 'Cobertura Escolas SE.xlsx',\n",
       " 'Cobertura Escolas SP.xlsx',\n",
       " 'Cobertura Escolas TO.xlsx']"
      ]
     },
     "execution_count": 12,
     "metadata": {},
     "output_type": "execute_result"
    }
   ],
   "source": [
    "all_filenames"
   ]
  },
  {
   "cell_type": "code",
   "execution_count": 13,
   "id": "9c0b0a1f",
   "metadata": {},
   "outputs": [],
   "source": [
    "combined_excel = pd.concat([pd.read_excel(f) for f in all_filenames ])"
   ]
  },
  {
   "cell_type": "code",
   "execution_count": 14,
   "id": "81fe68cc",
   "metadata": {},
   "outputs": [],
   "source": [
    "combined_excel.to_excel(\"Cobertura Consolidada.xlsx\")"
   ]
  },
  {
   "cell_type": "code",
   "execution_count": null,
   "id": "196f4373",
   "metadata": {},
   "outputs": [],
   "source": []
  }
 ],
 "metadata": {
  "kernelspec": {
   "display_name": "Python 3 (ipykernel)",
   "language": "python",
   "name": "python3"
  },
  "language_info": {
   "codemirror_mode": {
    "name": "ipython",
    "version": 3
   },
   "file_extension": ".py",
   "mimetype": "text/x-python",
   "name": "python",
   "nbconvert_exporter": "python",
   "pygments_lexer": "ipython3",
   "version": "3.10.9"
  }
 },
 "nbformat": 4,
 "nbformat_minor": 5
}
